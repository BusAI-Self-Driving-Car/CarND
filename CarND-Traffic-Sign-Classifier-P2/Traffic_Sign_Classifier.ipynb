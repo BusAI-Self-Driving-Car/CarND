{
 "cells": [
  {
   "cell_type": "markdown",
   "metadata": {
    "deletable": true,
    "editable": true
   },
   "source": [
    "# Self-Driving Car Engineer Nanodegree\n",
    "\n",
    "## Deep Learning\n",
    "\n",
    "## Project: Build a Traffic Sign Recognition Classifier\n",
    "\n",
    "In this notebook, a template is provided for you to implement your functionality in stages, which is required to successfully complete this project. If additional code is required that cannot be included in the notebook, be sure that the Python code is successfully imported and included in your submission if necessary. \n",
    "\n",
    "> **Note**: Once you have completed all of the code implementations, you need to finalize your work by exporting the iPython Notebook as an HTML document. Before exporting the notebook to html, all of the code cells need to have been run so that reviewers can see the final implementation and output. You can then export the notebook by using the menu above and navigating to  \\n\",\n",
    "    \"**File -> Download as -> HTML (.html)**. Include the finished document along with this notebook as your submission. \n",
    "\n",
    "In addition to implementing code, there is a writeup to complete. The writeup should be completed in a separate file, which can be either a markdown file or a pdf document. There is a [write up template](https://github.com/udacity/CarND-Traffic-Sign-Classifier-Project/blob/master/writeup_template.md) that can be used to guide the writing process. Completing the code template and writeup template will cover all of the [rubric points](https://review.udacity.com/#!/rubrics/481/view) for this project.\n",
    "\n",
    "The [rubric](https://review.udacity.com/#!/rubrics/481/view) contains \"Stand Out Suggestions\" for enhancing the project beyond the minimum requirements. The stand out suggestions are optional. If you decide to pursue the \"stand out suggestions\", you can include the code in this Ipython notebook and also discuss the results in the writeup file.\n",
    "\n",
    "\n",
    ">**Note:** Code and Markdown cells can be executed using the **Shift + Enter** keyboard shortcut. In addition, Markdown cells can be edited by typically double-clicking the cell to enter edit mode."
   ]
  },
  {
   "cell_type": "markdown",
   "metadata": {
    "deletable": true,
    "editable": true
   },
   "source": [
    "---\n",
    "## 1. Load The Data"
   ]
  },
  {
   "cell_type": "code",
   "execution_count": 1,
   "metadata": {
    "collapsed": false,
    "deletable": true,
    "editable": true
   },
   "outputs": [
    {
     "name": "stdout",
     "output_type": "stream",
     "text": [
      "Loading done!\n"
     ]
    }
   ],
   "source": [
    "# Load pickled data\n",
    "import pickle\n",
    "\n",
    "# TODO: Fill this in based on where you saved the training and testing data\n",
    "\n",
    "training_file   = './traffic-signs-data/train.p'\n",
    "validation_file = './traffic-signs-data/valid.p'\n",
    "testing_file    = './traffic-signs-data/test.p'\n",
    "\n",
    "with open(training_file, mode='rb') as f:\n",
    "    train = pickle.load(f)\n",
    "with open(validation_file, mode='rb') as f:\n",
    "    valid = pickle.load(f)\n",
    "with open(testing_file, mode='rb') as f:\n",
    "    test = pickle.load(f)\n",
    "    \n",
    "X_train, y_train = train['features'], train['labels']\n",
    "X_valid, y_valid = valid['features'], valid['labels']\n",
    "X_test, y_test = test['features'], test['labels']\n",
    "\n",
    "assert(len(X_train) == len(y_train))\n",
    "assert(len(X_valid) == len(y_valid))\n",
    "assert(len(X_test) == len(y_test))\n",
    "\n",
    "print(\"Loading done!\")"
   ]
  },
  {
   "cell_type": "markdown",
   "metadata": {
    "deletable": true,
    "editable": true
   },
   "source": [
    "---\n",
    "\n",
    "## Step 1: Dataset Summary & Exploration\n",
    "\n",
    "The pickled data is a dictionary with 4 key/value pairs:\n",
    "\n",
    "- `'features'` is a 4D array containing raw pixel data of the traffic sign images, (num examples, width, height, channels).\n",
    "- `'labels'` is a 1D array containing the label/class id of the traffic sign. The file `signnames.csv` contains id -> name mappings for each id.\n",
    "- `'sizes'` is a list containing tuples, (width, height) representing the original width and height the image.\n",
    "- `'coords'` is a list containing tuples, (x1, y1, x2, y2) representing coordinates of a bounding box around the sign in the image. **THESE COORDINATES ASSUME THE ORIGINAL IMAGE. THE PICKLED DATA CONTAINS RESIZED VERSIONS (32 by 32) OF THESE IMAGES**\n",
    "\n",
    "Complete the basic data summary below. Use python, numpy and/or pandas methods to calculate the data summary rather than hard coding the results. For example, the [pandas shape method](http://pandas.pydata.org/pandas-docs/stable/generated/pandas.DataFrame.shape.html) might be useful for calculating some of the summary results. "
   ]
  },
  {
   "cell_type": "markdown",
   "metadata": {
    "deletable": true,
    "editable": true
   },
   "source": [
    "## 2. Provide a Basic Summary of the Data Set Using Python, Numpy and/or Pandas"
   ]
  },
  {
   "cell_type": "code",
   "execution_count": 2,
   "metadata": {
    "collapsed": false,
    "deletable": true,
    "editable": true
   },
   "outputs": [
    {
     "name": "stdout",
     "output_type": "stream",
     "text": [
      "Number of training examples = 34799\n",
      "Number of validation examples = 4410\n",
      "Number of testing examples = 12630\n",
      "Image data shape = (32, 32, 3)\n",
      "Number of classes = 43\n"
     ]
    }
   ],
   "source": [
    "### Replace each question mark with the appropriate value. \n",
    "### Use python, pandas or numpy methods rather than hard coding the results\n",
    "\n",
    "import numpy as np\n",
    "\n",
    "# Number of training examples\n",
    "n_train = len(X_train)\n",
    "\n",
    "# Number of testing examples.\n",
    "n_test = len(X_test)\n",
    "\n",
    "# Number of validation examples\n",
    "n_valid = len(X_valid)\n",
    "\n",
    "# TODO: What's the shape of an traffic sign image?\n",
    "image_shape = X_train[0].shape\n",
    "\n",
    "# TODO: How many unique classes/labels there are in the dataset.\n",
    "n_classes = np.unique(y_train).size\n",
    "\n",
    "print(\"Number of training examples =\", n_train)\n",
    "print(\"Number of validation examples =\", n_valid)\n",
    "print(\"Number of testing examples =\", n_test)\n",
    "print(\"Image data shape =\", image_shape)\n",
    "print(\"Number of classes =\", n_classes)"
   ]
  },
  {
   "cell_type": "markdown",
   "metadata": {
    "deletable": true,
    "editable": true
   },
   "source": [
    "## 3. Include an exploratory visualization of the dataset"
   ]
  },
  {
   "cell_type": "markdown",
   "metadata": {
    "deletable": true,
    "editable": true
   },
   "source": [
    "Visualize the German Traffic Signs Dataset using the pickled file(s). This is open ended, suggestions include: plotting traffic sign images, plotting the count of each sign, etc.\n",
    "\n",
    "The [Matplotlib](http://matplotlib.org/) [examples](http://matplotlib.org/examples/index.html) and [gallery](http://matplotlib.org/gallery.html) pages are a great resource for doing visualizations in Python.\n",
    "\n",
    "**NOTE:** It's recommended you start with something simple first. If you wish to do more, come back to it after you've completed the rest of the sections."
   ]
  },
  {
   "cell_type": "code",
   "execution_count": 3,
   "metadata": {
    "collapsed": false,
    "deletable": true,
    "editable": true
   },
   "outputs": [
    {
     "data": {
      "image/png": "[encoded data removed]",
      "text/plain": [
       "<matplotlib.figure.Figure at 0x7f8b4346fac8>"
      ]
     },
     "metadata": {},
     "output_type": "display_data"
    },
    {
     "data": {
      "image/png": "[encoded data removed]",
      "text/plain": [
       "<matplotlib.figure.Figure at 0x7f8b4346f9e8>"
      ]
     },
     "metadata": {},
     "output_type": "display_data"
    }
   ],
   "source": [
    "import matplotlib.pyplot as plt\n",
    "import random\n",
    "import numpy as np\n",
    "import csv\n",
    "import pandas as pd\n",
    "\n",
    "# Visualizations will be shown in the notebook.\n",
    "%matplotlib inline\n",
    "\n",
    "def show_sample(features, labels, histogram = 1, sample_num = 1, sample_index = -1, color_map ='brg'):\n",
    "    \n",
    "    if histogram == 1 :\n",
    "        col_num = 2\n",
    "        #Create training sample + histogram plot\n",
    "        f, axarr = plt.subplots(sample_num+1, col_num, figsize=(col_num*4,(sample_num+1)*3))\n",
    "    else:\n",
    "        if sample_num <= 4:\n",
    "            col_num = sample_num\n",
    "        else:\n",
    "            col_num = 4\n",
    "        \n",
    "        if sample_num%col_num == 0:\n",
    "            row_num = int(sample_num/col_num)\n",
    "        else:\n",
    "            row_num = int(sample_num/col_num)+1\n",
    "        if sample_num == 1:\n",
    "            #Create training sample plot\n",
    "            f, ax = plt.subplots(row_num, col_num)\n",
    "        else:\n",
    "            #Create training sample plot\n",
    "            f, axarr = plt.subplots(row_num, col_num, figsize=(col_num*4,(row_num+1)*2))\n",
    "        \n",
    "    signnames = pd.read_csv('signnames.csv')\n",
    "    \n",
    "    index = sample_index - 1 \n",
    "    for i in range(0, sample_num, 1):\n",
    "        if sample_index < -1:\n",
    "            index = random.randint(0, len(features))\n",
    "        else:\n",
    "            index = index + 1\n",
    "        \n",
    "        if histogram == 1 :\n",
    "            image = features[index].squeeze()\n",
    "            axarr[i,0].set_title('%s' % signnames.iloc[labels[index], 1])\n",
    "            axarr[i,0].imshow(image,color_map)\n",
    "\n",
    "            hist,bins = np.histogram(image.flatten(),256, normed =1 )\n",
    "\n",
    "            cdf = hist.cumsum()\n",
    "            cdf_normalized = cdf * hist.max()/ cdf.max()\n",
    "\n",
    "            axarr[i,1].plot(cdf_normalized, color = 'b')\n",
    "            axarr[i,1].hist(image.flatten(),256, normed =1, color = 'r')\n",
    "            axarr[i,1].legend(('cdf','histogram'), loc = 'upper left')\n",
    "\n",
    "            axarr[i,0].axis('off')\n",
    "            axarr[sample_num,0].axis('off')\n",
    "            axarr[sample_num,1].axis('off')\n",
    "        else:\n",
    "            image = features[index].squeeze()\n",
    "            if row_num > 1:\n",
    "                axarr[int(i/col_num),i%col_num].set_title('%s' % signnames.iloc[labels[index], 1])\n",
    "                axarr[int(i/col_num),i%col_num].imshow(image,color_map)\n",
    "                axarr[int(i/col_num),i%col_num].axis('off')\n",
    "                axarr[int(i/col_num),i%col_num].axis('off')\n",
    "                axarr[int(i/col_num),i%col_num].axis('off')\n",
    "            elif sample_num == 1:\n",
    "                ax.set_title('%s' % signnames.iloc[labels[index], 1])\n",
    "                ax.imshow(image,color_map)\n",
    "                ax.axis('off')\n",
    "                ax.axis('off')\n",
    "                ax.axis('off')\n",
    "            else: \n",
    "                axarr[i%col_num].set_title('%s' % signnames.iloc[labels[index], 1])\n",
    "                axarr[i%col_num].imshow(image,color_map)\n",
    "                axarr[i%col_num].axis('off')\n",
    "                axarr[i%col_num].axis('off')\n",
    "                axarr[i%col_num].axis('off')\n",
    "\n",
    "    # Tweak spacing to prevent clipping of title labels\n",
    "    f.tight_layout()\n",
    "    plt.show()\n",
    "\n",
    "def show_training_dataset_histogram(features):\n",
    "    fig, ax = plt.subplots()\n",
    "    \n",
    "    n_classes = np.unique(y_train).size\n",
    "    \n",
    "    # the histogram of the training data\n",
    "    n, bins, patches = ax.hist(features, n_classes)\n",
    "\n",
    "    ax.set_xlabel('Classes')\n",
    "    ax.set_ylabel('Number of occurence')\n",
    "    ax.set_title(r'Histogram of the training data set')\n",
    "\n",
    "    plt.show()\n",
    "\n",
    "show_training_dataset_histogram(y_train)\n",
    "show_sample(X_train, y_train, sample_num = 6)\n",
    "\n"
   ]
  },
  {
   "cell_type": "markdown",
   "metadata": {
    "deletable": true,
    "editable": true
   },
   "source": [
    "----\n",
    "\n",
    "## Step 2: Design and Test a Model Architecture\n",
    "\n",
    "Design and implement a deep learning model that learns to recognize traffic signs. Train and test your model on the [German Traffic Sign Dataset](http://benchmark.ini.rub.de/?section=gtsrb&subsection=dataset).\n",
    "\n",
    "The LeNet-5 implementation shown in the [classroom](https://classroom.udacity.com/nanodegrees/nd013/parts/fbf77062-5703-404e-b60c-95b78b2f3f9e/modules/6df7ae49-c61c-4bb2-a23e-6527e69209ec/lessons/601ae704-1035-4287-8b11-e2c2716217ad/concepts/d4aca031-508f-4e0b-b493-e7b706120f81) at the end of the CNN lesson is a solid starting point. You'll have to change the number of classes and possibly the preprocessing, but aside from that it's plug and play! \n",
    "\n",
    "With the LeNet-5 solution from the lecture, you should expect a validation set accuracy of about 0.89. To meet specifications, the validation set accuracy will need to be at least 0.93. It is possible to get an even higher accuracy, but 0.93 is the minimum for a successful project submission. \n",
    "\n",
    "There are various aspects to consider when thinking about this problem:\n",
    "\n",
    "- Neural network architecture (is the network over or underfitting?)\n",
    "- Play around preprocessing techniques (normalization, rgb to grayscale, etc)\n",
    "- Number of examples per label (some have more than others).\n",
    "- Generate fake data.\n",
    "\n",
    "Here is an example of a [published baseline model on this problem](http://yann.lecun.com/exdb/publis/pdf/sermanet-ijcnn-11.pdf). It's not required to be familiar with the approach used in the paper but, it's good practice to try to read papers like these."
   ]
  },
  {
   "cell_type": "markdown",
   "metadata": {
    "deletable": true,
    "editable": true
   },
   "source": [
    "## 4. Augment the Data Set"
   ]
  },
  {
   "cell_type": "code",
   "execution_count": 4,
   "metadata": {
    "collapsed": false,
    "deletable": true,
    "editable": true
   },
   "outputs": [
    {
     "name": "stderr",
     "output_type": "stream",
     "text": [
      "Iter  1/43: 100%|██████████| 180/180 [00:00<00:00, 8840.66examples/s]\n",
      "Iter  1/43: 100%|██████████| 180/180 [00:00<00:00, 8120.71examples/s]\n",
      "Iter  1/43: 100%|██████████| 180/180 [00:00<00:00, 11101.26examples/s]\n",
      "Iter  1/43: 100%|██████████| 180/180 [00:00<00:00, 10828.82examples/s]\n",
      "Iter  1/43: 100%|██████████| 180/180 [00:00<00:00, 8386.56examples/s]\n",
      "Iter  1/43: 100%|██████████| 180/180 [00:00<00:00, 10933.26examples/s]\n",
      "Iter  1/43: 100%|██████████| 180/180 [00:00<00:00, 10519.51examples/s]\n",
      "Iter  1/43: 100%|██████████| 180/180 [00:00<00:00, 8778.47examples/s]\n",
      "Iter  1/43: 100%|██████████| 180/180 [00:00<00:00, 10835.35examples/s]\n",
      "Iter  1/43: 100%|██████████| 180/180 [00:00<00:00, 10752.48examples/s]\n",
      "Iter  1/43: 100%|██████████| 30/30 [00:00<00:00, 5843.01examples/s]\n",
      "Iter  2/43: 100%|██████████| 30/30 [00:00<00:00, 10043.03examples/s]\n",
      "Iter  4/43: 100%|██████████| 750/750 [00:00<00:00, 11029.01examples/s]\n",
      "Iter  5/43: 100%|██████████| 240/240 [00:00<00:00, 10411.79examples/s]\n",
      "Iter  6/43: 100%|██████████| 360/360 [00:00<00:00, 9992.91examples/s]\n",
      "Iter  7/43: 100%|██████████| 360/360 [00:00<00:00, 10668.61examples/s]\n",
      "Iter  7/43: 100%|██████████| 360/360 [00:00<00:00, 10980.25examples/s]\n",
      "Iter  7/43: 100%|██████████| 360/360 [00:00<00:00, 10195.54examples/s]\n",
      "Iter  7/43: 100%|██████████| 360/360 [00:00<00:00, 10409.21examples/s]\n",
      "Iter  7/43: 100%|██████████| 210/210 [00:00<00:00, 10994.38examples/s]\n",
      "Iter  8/43: 100%|██████████| 720/720 [00:00<00:00, 11638.81examples/s]\n",
      "Iter  9/43: 100%|██████████| 750/750 [00:00<00:00, 11861.00examples/s]\n",
      "Iter 10/43: 100%|██████████| 690/690 [00:00<00:00, 11685.99examples/s]\n",
      "Iter 11/43: 100%|██████████| 210/210 [00:00<00:00, 10235.72examples/s]\n",
      "Iter 12/43: 100%|██████████| 840/840 [00:00<00:00, 11298.84examples/s]\n",
      "Iter 13/43: 100%|██████████| 120/120 [00:00<00:00, 10914.38examples/s]\n",
      "Iter 14/43: 100%|██████████| 90/90 [00:00<00:00, 8599.00examples/s]\n",
      "Iter 15/43: 100%|██████████| 690/690 [00:00<00:00, 11689.62examples/s]\n",
      "Iter 15/43: 100%|██████████| 630/630 [00:00<00:00, 11805.07examples/s]\n",
      "Iter 16/43: 100%|██████████| 540/540 [00:00<00:00, 11048.52examples/s]\n",
      "Iter 16/43: 100%|██████████| 540/540 [00:00<00:00, 11321.73examples/s]\n",
      "Iter 16/43: 100%|██████████| 390/390 [00:00<00:00, 10350.93examples/s]\n",
      "Iter 17/43: 100%|██████████| 360/360 [00:00<00:00, 10792.29examples/s]\n",
      "Iter 17/43: 100%|██████████| 360/360 [00:00<00:00, 11277.03examples/s]\n",
      "Iter 17/43: 100%|██████████| 360/360 [00:00<00:00, 11310.14examples/s]\n",
      "Iter 17/43: 100%|██████████| 360/360 [00:00<00:00, 11082.69examples/s]\n",
      "Iter 17/43: 100%|██████████| 210/210 [00:00<00:00, 10838.39examples/s]\n",
      "Iter 18/43: 100%|██████████| 990/990 [00:00<00:00, 11546.46examples/s]\n",
      "Iter 18/43: 100%|██████████| 30/30 [00:00<00:00, 10130.35examples/s]\n",
      "Iter 19/43: 100%|██████████| 930/930 [00:00<00:00, 11415.18examples/s]\n",
      "Iter 20/43: 100%|██████████| 180/180 [00:00<00:00, 11235.58examples/s]\n",
      "Iter 20/43: 100%|██████████| 180/180 [00:00<00:00, 9305.17examples/s]\n",
      "Iter 20/43: 100%|██████████| 180/180 [00:00<00:00, 10029.15examples/s]\n",
      "Iter 20/43: 100%|██████████| 180/180 [00:00<00:00, 6431.94examples/s]\n",
      "Iter 20/43: 100%|██████████| 180/180 [00:00<00:00, 10800.63examples/s]\n",
      "Iter 20/43: 100%|██████████| 180/180 [00:00<00:00, 11166.61examples/s]\n",
      "Iter 20/43: 100%|██████████| 180/180 [00:00<00:00, 10653.10examples/s]\n",
      "Iter 20/43: 100%|██████████| 180/180 [00:00<00:00, 11394.81examples/s]\n",
      "Iter 20/43: 100%|██████████| 180/180 [00:00<00:00, 8785.42examples/s]\n",
      "Iter 20/43: 100%|██████████| 180/180 [00:00<00:00, 10730.63examples/s]\n",
      "Iter 20/43: 100%|██████████| 30/30 [00:00<00:00, 9709.79examples/s]\n",
      "Iter 21/43: 100%|██████████| 300/300 [00:00<00:00, 9570.65examples/s]\n",
      "Iter 21/43: 100%|██████████| 300/300 [00:00<00:00, 10387.17examples/s]\n",
      "Iter 21/43: 100%|██████████| 300/300 [00:00<00:00, 7902.95examples/s]\n",
      "Iter 21/43: 100%|██████████| 300/300 [00:00<00:00, 7945.31examples/s]\n",
      "Iter 21/43: 100%|██████████| 300/300 [00:00<00:00, 7640.22examples/s]\n",
      "Iter 21/43: 100%|██████████| 210/210 [00:00<00:00, 7546.56examples/s]\n",
      "Iter 22/43: 100%|██████████| 270/270 [00:00<00:00, 10110.00examples/s]\n",
      "Iter 22/43: 100%|██████████| 270/270 [00:00<00:00, 10635.34examples/s]\n",
      "Iter 22/43: 100%|██████████| 270/270 [00:00<00:00, 9779.38examples/s]\n",
      "Iter 22/43: 100%|██████████| 270/270 [00:00<00:00, 11223.50examples/s]\n",
      "Iter 22/43: 100%|██████████| 270/270 [00:00<00:00, 10858.36examples/s]\n",
      "Iter 22/43: 100%|██████████| 270/270 [00:00<00:00, 10670.62examples/s]\n",
      "Iter 22/43: 100%|██████████| 120/120 [00:00<00:00, 7596.20examples/s]\n",
      "Iter 23/43: 100%|██████████| 330/330 [00:00<00:00, 11379.39examples/s]\n",
      "Iter 23/43: 100%|██████████| 330/330 [00:00<00:00, 8161.62examples/s]\n",
      "Iter 23/43: 100%|██████████| 330/330 [00:00<00:00, 9963.79examples/s]\n",
      "Iter 23/43: 100%|██████████| 330/330 [00:00<00:00, 11508.73examples/s]\n",
      "Iter 23/43: 100%|██████████| 330/330 [00:00<00:00, 10821.56examples/s]\n",
      "Iter 23/43: 100%|██████████| 30/30 [00:00<00:00, 8257.59examples/s]\n",
      "Iter 24/43: 100%|██████████| 450/450 [00:00<00:00, 10721.09examples/s]\n",
      "Iter 24/43: 100%|██████████| 450/450 [00:00<00:00, 11040.29examples/s]\n",
      "Iter 24/43: 100%|██████████| 450/450 [00:00<00:00, 10535.63examples/s]\n",
      "Iter 24/43: 100%|██████████| 210/210 [00:00<00:00, 11791.69examples/s]\n",
      "Iter 25/43: 100%|██████████| 240/240 [00:00<00:00, 9512.60examples/s]\n",
      "Iter 25/43: 100%|██████████| 240/240 [00:00<00:00, 10477.36examples/s]\n",
      "Iter 25/43: 100%|██████████| 240/240 [00:00<00:00, 7248.85examples/s]\n",
      "Iter 25/43: 100%|██████████| 240/240 [00:00<00:00, 9776.17examples/s]\n",
      "Iter 25/43: 100%|██████████| 240/240 [00:00<00:00, 10295.19examples/s]\n",
      "Iter 25/43: 100%|██████████| 240/240 [00:00<00:00, 6666.09examples/s]\n",
      "Iter 25/43: 100%|██████████| 240/240 [00:00<00:00, 10930.49examples/s]\n",
      "Iter 25/43: 100%|██████████| 90/90 [00:00<00:00, 9440.25examples/s]\n",
      "Iter 26/43: 100%|██████████| 660/660 [00:00<00:00, 11096.84examples/s]\n",
      "Iter 27/43: 100%|██████████| 540/540 [00:00<00:00, 11630.08examples/s]\n",
      "Iter 27/43: 100%|██████████| 540/540 [00:00<00:00, 11001.56examples/s]\n",
      "Iter 27/43: 100%|██████████| 390/390 [00:00<00:00, 11389.47examples/s]\n",
      "Iter 28/43: 100%|██████████| 210/210 [00:00<00:00, 11879.48examples/s]\n",
      "Iter 28/43: 100%|██████████| 210/210 [00:00<00:00, 11304.82examples/s]\n",
      "Iter 28/43: 100%|██████████| 210/210 [00:00<00:00, 11398.75examples/s]\n",
      "Iter 28/43: 100%|██████████| 210/210 [00:00<00:00, 9200.73examples/s]\n",
      "Iter 28/43: 100%|██████████| 210/210 [00:00<00:00, 11379.75examples/s]\n",
      "Iter 28/43: 100%|██████████| 210/210 [00:00<00:00, 10546.28examples/s]\n",
      "Iter 28/43: 100%|██████████| 210/210 [00:00<00:00, 10722.29examples/s]\n",
      "Iter 28/43: 100%|██████████| 210/210 [00:00<00:00, 11585.41examples/s]\n",
      "Iter 28/43: 100%|██████████| 120/120 [00:00<00:00, 8439.67examples/s]\n",
      "Iter 29/43: 100%|██████████| 480/480 [00:00<00:00, 10465.43examples/s]\n",
      "Iter 29/43: 100%|██████████| 480/480 [00:00<00:00, 11116.20examples/s]\n",
      "Iter 29/43: 100%|██████████| 480/480 [00:00<00:00, 11459.72examples/s]\n",
      "Iter 29/43: 100%|██████████| 90/90 [00:00<00:00, 11170.58examples/s]\n",
      "Iter 30/43: 100%|██████████| 240/240 [00:00<00:00, 10377.12examples/s]\n",
      "Iter 30/43: 100%|██████████| 240/240 [00:00<00:00, 10167.50examples/s]\n",
      "Iter 30/43: 100%|██████████| 240/240 [00:00<00:00, 10182.41examples/s]\n",
      "Iter 30/43: 100%|██████████| 240/240 [00:00<00:00, 11434.07examples/s]\n",
      "Iter 30/43: 100%|██████████| 240/240 [00:00<00:00, 9729.78examples/s]\n",
      "Iter 30/43: 100%|██████████| 240/240 [00:00<00:00, 9376.68examples/s]\n",
      "Iter 30/43: 100%|██████████| 240/240 [00:00<00:00, 10152.63examples/s]\n",
      "Iter 30/43: 100%|██████████| 90/90 [00:00<00:00, 11058.01examples/s]\n",
      "Iter 31/43: 100%|██████████| 390/390 [00:00<00:00, 11310.40examples/s]\n",
      "Iter 31/43: 100%|██████████| 390/390 [00:00<00:00, 11202.50examples/s]\n",
      "Iter 31/43: 100%|██████████| 390/390 [00:00<00:00, 11610.24examples/s]\n",
      "Iter 31/43: 100%|██████████| 390/390 [00:00<00:00, 11574.75examples/s]\n",
      "Iter 31/43: 100%|██████████| 60/60 [00:00<00:00, 9916.78examples/s]\n",
      "Iter 32/43: 100%|██████████| 690/690 [00:00<00:00, 12362.17examples/s]\n",
      "Iter 32/43: 100%|██████████| 630/630 [00:00<00:00, 12226.20examples/s]\n",
      "Iter 33/43: 100%|██████████| 210/210 [00:00<00:00, 9855.48examples/s]\n",
      "Iter 33/43: 100%|██████████| 210/210 [00:00<00:00, 10698.59examples/s]\n",
      "Iter 33/43: 100%|██████████| 210/210 [00:00<00:00, 9743.73examples/s]\n",
      "Iter 33/43: 100%|██████████| 210/210 [00:00<00:00, 10176.94examples/s]\n",
      "Iter 33/43: 100%|██████████| 210/210 [00:00<00:00, 10688.33examples/s]\n",
      "Iter 33/43: 100%|██████████| 210/210 [00:00<00:00, 11389.16examples/s]\n",
      "Iter 33/43: 100%|██████████| 210/210 [00:00<00:00, 11245.21examples/s]\n",
      "Iter 33/43: 100%|██████████| 210/210 [00:00<00:00, 10541.23examples/s]\n",
      "Iter 33/43: 100%|██████████| 120/120 [00:00<00:00, 10134.43examples/s]\n",
      "Iter 34/43: 100%|██████████| 599/599 [00:00<00:00, 11660.69examples/s]\n",
      "Iter 34/43: 100%|██████████| 599/599 [00:00<00:00, 11432.63examples/s]\n",
      "Iter 34/43: 100%|██████████| 213/213 [00:00<00:00, 10467.82examples/s]\n",
      "Iter 35/43: 100%|██████████| 360/360 [00:00<00:00, 10468.02examples/s]\n",
      "Iter 35/43: 100%|██████████| 360/360 [00:00<00:00, 11521.05examples/s]\n",
      "Iter 35/43: 100%|██████████| 360/360 [00:00<00:00, 11221.30examples/s]\n",
      "Iter 35/43: 100%|██████████| 360/360 [00:00<00:00, 8620.60examples/s]\n",
      "Iter 35/43: 100%|██████████| 210/210 [00:00<00:00, 11059.54examples/s]\n",
      "Iter 36/43: 100%|██████████| 930/930 [00:00<00:00, 11321.81examples/s]\n",
      "Iter 37/43: 100%|██████████| 330/330 [00:00<00:00, 10821.22examples/s]\n",
      "Iter 37/43: 100%|██████████| 330/330 [00:00<00:00, 11029.64examples/s]\n",
      "Iter 37/43: 100%|██████████| 330/330 [00:00<00:00, 10628.60examples/s]\n",
      "Iter 37/43: 100%|██████████| 330/330 [00:00<00:00, 11204.46examples/s]\n",
      "Iter 37/43: 100%|██████████| 330/330 [00:00<00:00, 11335.21examples/s]\n",
      "Iter 37/43: 100%|██████████| 30/30 [00:00<00:00, 10552.59examples/s]\n",
      "Iter 38/43: 100%|██████████| 180/180 [00:00<00:00, 11191.61examples/s]\n",
      "Iter 38/43: 100%|██████████| 180/180 [00:00<00:00, 10357.02examples/s]\n",
      "Iter 38/43: 100%|██████████| 180/180 [00:00<00:00, 10788.90examples/s]\n",
      "Iter 38/43: 100%|██████████| 180/180 [00:00<00:00, 10058.68examples/s]\n",
      "Iter 38/43: 100%|██████████| 180/180 [00:00<00:00, 10400.68examples/s]\n",
      "Iter 38/43: 100%|██████████| 180/180 [00:00<00:00, 11368.56examples/s]\n",
      "Iter 38/43: 100%|██████████| 180/180 [00:00<00:00, 10112.58examples/s]\n",
      "Iter 38/43: 100%|██████████| 180/180 [00:00<00:00, 11289.51examples/s]\n",
      "Iter 38/43: 100%|██████████| 180/180 [00:00<00:00, 10389.80examples/s]\n",
      "Iter 38/43: 100%|██████████| 180/180 [00:00<00:00, 10391.80examples/s]\n",
      "Iter 38/43: 100%|██████████| 30/30 [00:00<00:00, 8119.06examples/s]\n",
      "Iter 39/43: 100%|██████████| 150/150 [00:00<00:00, 11714.84examples/s]\n",
      "Iter 40/43: 100%|██████████| 270/270 [00:00<00:00, 7452.22examples/s]\n",
      "Iter 40/43: 100%|██████████| 270/270 [00:00<00:00, 7523.32examples/s]\n",
      "Iter 40/43: 100%|██████████| 270/270 [00:00<00:00, 7554.23examples/s]\n",
      "Iter 40/43: 100%|██████████| 270/270 [00:00<00:00, 7812.45examples/s]\n",
      "Iter 40/43: 100%|██████████| 270/270 [00:00<00:00, 8027.32examples/s]\n",
      "Iter 40/43: 100%|██████████| 270/270 [00:00<00:00, 10871.91examples/s]\n",
      "Iter 40/43: 100%|██████████| 120/120 [00:00<00:00, 11358.21examples/s]\n",
      "Iter 41/43: 100%|██████████| 300/300 [00:00<00:00, 10848.83examples/s]\n",
      "Iter 41/43: 100%|██████████| 300/300 [00:00<00:00, 10799.95examples/s]\n",
      "Iter 41/43: 100%|██████████| 300/300 [00:00<00:00, 11378.50examples/s]\n",
      "Iter 41/43: 100%|██████████| 300/300 [00:00<00:00, 10941.09examples/s]\n",
      "Iter 41/43: 100%|██████████| 300/300 [00:00<00:00, 7794.70examples/s]\n",
      "Iter 41/43: 100%|██████████| 210/210 [00:00<00:00, 10846.67examples/s]\n",
      "Iter 42/43: 100%|██████████| 210/210 [00:00<00:00, 10807.28examples/s]\n",
      "Iter 42/43: 100%|██████████| 210/210 [00:00<00:00, 10040.17examples/s]\n",
      "Iter 42/43: 100%|██████████| 210/210 [00:00<00:00, 9640.39examples/s]\n",
      "Iter 42/43: 100%|██████████| 210/210 [00:00<00:00, 9486.72examples/s]\n",
      "Iter 42/43: 100%|██████████| 210/210 [00:00<00:00, 10918.47examples/s]\n",
      "Iter 42/43: 100%|██████████| 210/210 [00:00<00:00, 10380.23examples/s]\n",
      "Iter 42/43: 100%|██████████| 210/210 [00:00<00:00, 10654.97examples/s]\n",
      "Iter 42/43: 100%|██████████| 210/210 [00:00<00:00, 11008.12examples/s]\n",
      "Iter 42/43: 100%|██████████| 120/120 [00:00<00:00, 9884.07examples/s]\n",
      "Iter 43/43: 100%|██████████| 210/210 [00:00<00:00, 11355.25examples/s]\n",
      "Iter 43/43: 100%|██████████| 210/210 [00:00<00:00, 10683.01examples/s]\n",
      "Iter 43/43: 100%|██████████| 210/210 [00:00<00:00, 10154.65examples/s]\n",
      "Iter 43/43: 100%|██████████| 210/210 [00:00<00:00, 10487.88examples/s]\n",
      "Iter 43/43: 100%|██████████| 210/210 [00:00<00:00, 11036.26examples/s]\n",
      "Iter 43/43: 100%|██████████| 210/210 [00:00<00:00, 11067.04examples/s]\n",
      "Iter 43/43: 100%|██████████| 210/210 [00:00<00:00, 10379.98examples/s]\n",
      "Iter 43/43: 100%|██████████| 210/210 [00:00<00:00, 10736.53examples/s]\n",
      "Iter 43/43: 100%|██████████| 120/120 [00:00<00:00, 10640.27examples/s]\n"
     ]
    },
    {
     "name": "stdout",
     "output_type": "stream",
     "text": [
      "New training feature shape (86430, 32, 32, 3)\n",
      "New training label shape (86430,)\n",
      "Data augmentation done!\n"
     ]
    }
   ],
   "source": [
    "import cv2\n",
    "from tqdm import tqdm\n",
    "from sklearn.utils import shuffle\n",
    "\n",
    "def random_transform_image(dataset, index):\n",
    "    \n",
    "    # Hyperparameters\n",
    "    # Values inspired from Pierre Sermanet and Yann LeCun Paper : Traffic Sign Recognition with Multi-Scale Convolutional Networks\n",
    "    Scale_change_max = 0.1\n",
    "    Translation_max  =  2  #pixels\n",
    "    Rotation_max     = 15  #degrees\n",
    "    Brightness_max   = 0.1\n",
    "    \n",
    "    # Generate random transformation values\n",
    "    trans_x = np.random.uniform(-Translation_max,Translation_max)\n",
    "    trans_y = np.random.uniform(-Translation_max,Translation_max)\n",
    "    angle   = np.random.uniform(-Rotation_max,Rotation_max)\n",
    "    scale   = np.random.uniform(1-Scale_change_max,1+Scale_change_max)\n",
    "    bright  = np.random.uniform(-Brightness_max,Brightness_max)\n",
    "\n",
    "    #Brightness\n",
    "    #create white image\n",
    "    white_img = 255*np.ones((32,32,3), np.uint8)\n",
    "    black_img = np.zeros((32,32,3), np.uint8)\n",
    "    \n",
    "    if bright >= 0:\n",
    "        img = cv2.addWeighted(dataset[index].squeeze(),1-bright,white_img,bright,0)\n",
    "    else:\n",
    "        img = cv2.addWeighted(dataset[index].squeeze(),bright+1,black_img,bright*-1,0)\n",
    "    \n",
    "    # Scale\n",
    "    img = cv2.resize(img,None,fx=scale, fy=scale, interpolation = cv2.INTER_CUBIC)\n",
    "    \n",
    "    # Get image shape afeter scaling\n",
    "    rows,cols,chan = img.shape\n",
    "    \n",
    "    # Pad with zeroes before rotation if image shape is less than 32*32*3\n",
    "    if rows < 32:\n",
    "        offset = int((32-img.shape[0])/2)\n",
    "        # If shape is an even number\n",
    "        if img.shape[0] %2 == 0:\n",
    "            img = cv2.copyMakeBorder(img,offset,offset,offset,offset,cv2.BORDER_CONSTANT,value=[0,0,0])\n",
    "        else:\n",
    "            img = cv2.copyMakeBorder(img,offset,offset+1,offset+1,offset,cv2.BORDER_CONSTANT,value=[0,0,0])\n",
    "    \n",
    "    # Update image shape after padding\n",
    "    rows,cols,chan = img.shape\n",
    "\n",
    "    # Rotate\n",
    "    M = cv2.getRotationMatrix2D((cols/2,rows/2),angle,1)\n",
    "    img = cv2.warpAffine(img,M,(cols,rows))\n",
    "    \n",
    "    # Translation\n",
    "    M = np.float32([[1,0,trans_x],[0,1,trans_y]])\n",
    "    img = cv2.warpAffine(img,M,(cols,rows))\n",
    "    \n",
    "    # Crop centered if image shape is greater than 32*32*3\n",
    "    if rows > 32:\n",
    "        offset = int((img.shape[0]-32)/2)\n",
    "        img = img[offset: 32 + offset, offset: 32 + offset]    \n",
    "    \n",
    "    return img\n",
    "\n",
    "# Parameters\n",
    "# Max example number per class\n",
    "num_example_per_class = np.bincount(y_train)\n",
    "min_example_num = max(num_example_per_class)\n",
    "\n",
    "for i in range(len(num_example_per_class)):\n",
    "\n",
    "    # Update number of examples by class\n",
    "    num_example_per_class = np.bincount(y_train)\n",
    "\n",
    "    # If the class lacks examples...\n",
    "    if num_example_per_class[i] < min_example_num:\n",
    "\n",
    "        # Locate where pictures of this class are located in the training set..\n",
    "        pictures = np.array(np.where(y_train == i)).T\n",
    "\n",
    "        # Compute the number of pictures to be generated\n",
    "        num_example_to_generate = min_example_num - num_example_per_class[i]\n",
    "\n",
    "        # Compute the number of iteration necessary on the real data\n",
    "        num_iter = int( num_example_to_generate/len(pictures) ) + 1\n",
    "        \n",
    "        # Compute the pool of real data necessary to fill the classes\n",
    "        if num_iter == 1 :\n",
    "            num_pictures = num_example_to_generate\n",
    "        else:\n",
    "            num_pictures = len(pictures)\n",
    "        \n",
    "#         # Limit the number of iteration to 10\n",
    "#         num_iter = min(num_iter, 10)\n",
    "        \n",
    "        # Create empty list\n",
    "        more_X   = []\n",
    "        more_y   = []\n",
    "\n",
    "        for k in range(num_iter):\n",
    "            # if we are in the last iteration, num_pictures is adjusted to fit the min_example_num\n",
    "            if (k == num_iter - 1) and (num_iter > 1):\n",
    "                num_pictures = min_example_num - num_iter * len(pictures)\n",
    "            \n",
    "            # For each pictures of this class, generate 1 more synthetic image\n",
    "            pbar = tqdm(range(num_pictures), desc='Iter {:>2}/{}'.format(i+1, len(num_example_per_class)), unit='examples')\n",
    "            for j in pbar:\n",
    "                # Append the transformed picture\n",
    "                more_X.append(random_transform_image(X_train,pictures[j]))\n",
    "                # Append the class number\n",
    "                more_y.append(i)\n",
    "\n",
    "        # Append the synthetic images to the training set\n",
    "        X_train = np.append(X_train, np.array(more_X), axis=0)\n",
    "        y_train = np.append(y_train, np.array(more_y), axis=0)\n",
    "\n",
    "print(\"New training feature shape\",X_train.shape)\n",
    "print(\"New training label shape\",y_train.shape)\n",
    "print(\"Data augmentation done!\")\n"
   ]
  },
  {
   "cell_type": "markdown",
   "metadata": {
    "deletable": true,
    "editable": true
   },
   "source": [
    "## 5. Show a sample of the augmented dataset"
   ]
  },
  {
   "cell_type": "code",
   "execution_count": 5,
   "metadata": {
    "collapsed": false,
    "deletable": true,
    "editable": true,
    "scrolled": true
   },
   "outputs": [
    {
     "data": {
      "image/png": "[encoded data removed]",
      "text/plain": [
       "<matplotlib.figure.Figure at 0x7f8b1020a8d0>"
      ]
     },
     "metadata": {},
     "output_type": "display_data"
    },
    {
     "data": {
      "image/png": "[encoded data removed]",
      "text/plain": [
       "<matplotlib.figure.Figure at 0x7f8b1020a9e8>"
      ]
     },
     "metadata": {},
     "output_type": "display_data"
    }
   ],
   "source": [
    "# Visualization\n",
    "show_training_dataset_histogram(y_train)\n",
    "show_sample(X_train, y_train, histogram = 0, sample_num = 8, sample_index = 35000)"
   ]
  },
  {
   "cell_type": "markdown",
   "metadata": {
    "deletable": true,
    "editable": true
   },
   "source": [
    "## 6. Pre-process functions"
   ]
  },
  {
   "cell_type": "code",
   "execution_count": 6,
   "metadata": {
    "collapsed": false,
    "deletable": true,
    "editable": true
   },
   "outputs": [],
   "source": [
    "import cv2\n",
    "from numpy import newaxis\n",
    "\n",
    "def equalize_Y_histogram(features):\n",
    "    images = []\n",
    "    for image in features:\n",
    "        \n",
    "        # Convert RGB to YUV\n",
    "        temp = cv2.cvtColor(image, cv2.COLOR_BGR2YUV);\n",
    "\n",
    "        # Equalize Y histogram in order to get better contrast accross the dataset\n",
    "        temp[:,:,0] = cv2.equalizeHist(temp[:,:,0])\n",
    "        \n",
    "        # Convert back YUV to RGB\n",
    "        temp = cv2.cvtColor(temp, cv2.COLOR_YUV2BGR)\n",
    "        \n",
    "        images.append(temp)\n",
    "\n",
    "    return np.array(images)\n",
    "\n",
    "def convert_to_grayscale(features):\n",
    "    gray_images = []\n",
    "    for image in features:\n",
    "       \n",
    "        # Convert RGB to grayscale\n",
    "        temp = cv2.cvtColor(image, cv2.COLOR_BGR2GRAY)\n",
    "        \n",
    "        gray_images.append(temp)\n",
    "\n",
    "    return np.array(gray_images)    \n",
    "\n",
    "def normalize_grayscale(image_data):\n",
    "    \"\"\"\n",
    "    Normalize the image data with Min-Max scaling to a range of [0.1, 0.9]\n",
    "    :param image_data: The image data to be normalized\n",
    "    :return: Normalized image data\n",
    "    \"\"\"\n",
    "    a = 0.1\n",
    "    b = 0.9\n",
    "    \n",
    "    image_data_norm = a + ((image_data - np.amin(image_data))*(b-a))/(np.amax(image_data) - np.amin(image_data))\n",
    "    \n",
    "    return image_data_norm\n"
   ]
  },
  {
   "cell_type": "markdown",
   "metadata": {
    "deletable": true,
    "editable": true
   },
   "source": [
    "## 7. Show a sample of the preprocess functions outputs"
   ]
  },
  {
   "cell_type": "code",
   "execution_count": 7,
   "metadata": {
    "collapsed": false,
    "deletable": true,
    "editable": true,
    "scrolled": true
   },
   "outputs": [
    {
     "data": {
      "image/png": "[encoded data removed]",
      "text/plain": [
       "<matplotlib.figure.Figure at 0x7f8b101fd278>"
      ]
     },
     "metadata": {},
     "output_type": "display_data"
    },
    {
     "data": {
      "image/png": "[encoded data removed]",
      "text/plain": [
       "<matplotlib.figure.Figure at 0x7f8b101fdac8>"
      ]
     },
     "metadata": {},
     "output_type": "display_data"
    },
    {
     "data": {
      "image/png": "[encoded data removed]",
      "text/plain": [
       "<matplotlib.figure.Figure at 0x7f8b30a78978>"
      ]
     },
     "metadata": {},
     "output_type": "display_data"
    },
    {
     "name": "stdout",
     "output_type": "stream",
     "text": [
      "[[221 209 199 ..., 211 221 220]\n",
      " [204 195 188 ..., 202 212 213]\n",
      " [185 168 177 ..., 186 191 188]\n",
      " ..., \n",
      " [ 10  24  38 ...,  10  10  10]\n",
      " [ 24  24  38 ...,  10  10   9]\n",
      " [ 24  38  38 ...,  10  10   1]]\n",
      "[[ 0.79333333  0.75568627  0.72431373 ...,  0.76196078  0.79333333\n",
      "   0.79019608]\n",
      " [ 0.74        0.71176471  0.68980392 ...,  0.73372549  0.76509804\n",
      "   0.76823529]\n",
      " [ 0.68039216  0.62705882  0.65529412 ...,  0.68352941  0.69921569\n",
      "   0.68980392]\n",
      " ..., \n",
      " [ 0.13137255  0.17529412  0.21921569 ...,  0.13137255  0.13137255\n",
      "   0.13137255]\n",
      " [ 0.17529412  0.17529412  0.21921569 ...,  0.13137255  0.13137255\n",
      "   0.12823529]\n",
      " [ 0.17529412  0.21921569  0.21921569 ...,  0.13137255  0.13137255\n",
      "   0.10313725]]\n"
     ]
    }
   ],
   "source": [
    "index = 255\n",
    "\n",
    "X_temp1 = equalize_Y_histogram(X_train)\n",
    "X_temp2 = convert_to_grayscale(X_temp1)\n",
    "X_temp3 = normalize_grayscale(X_temp2)\n",
    "\n",
    "show_sample(X_train, y_train, histogram = 1, sample_num = 1, sample_index = index)\n",
    "show_sample(X_temp1, y_train, histogram = 1, sample_num = 1, sample_index = index)\n",
    "show_sample(X_temp2, y_train, histogram = 1, sample_num = 1, sample_index = index, color_map ='gray')\n",
    "print(X_temp2[index])\n",
    "print(X_temp3[index])"
   ]
  },
  {
   "cell_type": "markdown",
   "metadata": {
    "deletable": true,
    "editable": true
   },
   "source": [
    "## 8. Preprocess the Dataset"
   ]
  },
  {
   "cell_type": "code",
   "execution_count": 8,
   "metadata": {
    "collapsed": false,
    "deletable": true,
    "editable": true
   },
   "outputs": [
    {
     "name": "stdout",
     "output_type": "stream",
     "text": [
      "Preprocessing training features...\n",
      "Processed shape = (86430, 32, 32, 1)\n",
      "Preprocessing validation features...\n",
      "Processed shape = (4410, 32, 32, 1)\n",
      "Preprocessing test features...\n",
      "Processed shape = (12630, 32, 32, 1)\n",
      "Pre-processing done!\n"
     ]
    }
   ],
   "source": [
    "#Preprocessing pipeline\n",
    "print('Preprocessing training features...')\n",
    "X_train = equalize_Y_histogram(X_train)\n",
    "X_train = convert_to_grayscale(X_train)\n",
    "X_train = normalize_grayscale(X_train)\n",
    "X_train = X_train[..., newaxis]\n",
    "\n",
    "print(\"Processed shape =\", X_train.shape)\n",
    "\n",
    "print('Preprocessing validation features...')\n",
    "X_valid = equalize_Y_histogram(X_valid)\n",
    "X_valid = convert_to_grayscale(X_valid)\n",
    "X_valid = normalize_grayscale(X_valid)\n",
    "X_valid = X_valid[..., newaxis]\n",
    "\n",
    "print(\"Processed shape =\", X_valid.shape)\n",
    "\n",
    "print('Preprocessing test features...')\n",
    "X_test = equalize_Y_histogram(X_test)\n",
    "X_test = convert_to_grayscale(X_test)\n",
    "X_test = normalize_grayscale(X_test)\n",
    "X_test = X_test[..., newaxis]\n",
    "\n",
    "print(\"Processed shape =\", X_test.shape)\n",
    "\n",
    "# Shuffle the training dataset\n",
    "X_train, y_train = shuffle(X_train, y_train)\n",
    "\n",
    "print(\"Pre-processing done!\")"
   ]
  },
  {
   "cell_type": "markdown",
   "metadata": {
    "deletable": true,
    "editable": true
   },
   "source": [
    "### 9. Model Architecture\n",
    "\n",
    "[//]: # (Image References)\n",
    "[image1]: ./examples/architecture.png \"Conv Net Architecture\"\n",
    "\n",
    "![alt text][image1]\n",
    "\n",
    "| Layer         |     Description\t        \t\t\t\t\t|  Input            |  Output                     |\n",
    "|:-------------:|:---------------------------------------------:|:-----------------:|:---------------------------:| \n",
    "| Input         | 32x32x1 Grayscale image   \t\t\t\t\t| Image             | Convolution 1               |\n",
    "| Convolution 1 | 1x1 stride, valid padding, outputs 28x28x100 \t| Input             | RELU                        |\n",
    "| RELU 1\t\t|\t\t\t\t\t\t\t\t\t\t\t\t| Convolution 1     | Max Pooling 1               |\n",
    "| Max pooling 1\t| 2x2 stride,  outputs 14x14x100 \t\t\t\t| RELU 1            | Convolution 2, Max Pooling 3|\n",
    "| Convolution 2 | 1x1 stride, valid padding, outputs 10x10x200\t| Max pooling 1     | RELU 2                      |\n",
    "| RELU 2\t\t|\t\t\t\t\t\t\t\t\t\t\t\t| Convolution 2     | Max pooling 2               |\n",
    "| Max pooling 2\t| 2x2 stride,  outputs 5x5x200  \t\t\t\t| RELU 2\t        | Flatten 2                   |\n",
    "| Max pooling 3\t| 2x2 stride,  outputs 7x7x100   \t\t\t\t| Max pooling 1     | Flatten 1                   |\n",
    "| Flatten 1\t\t| Input = 7x7x100, Output = 4900                | Max pooling 3     | Concatenate 1               |\n",
    "| Flatten 2\t\t| Input = 5x5x200, Output = 5000                | Max pooling 2     | Concatenate 1               |\n",
    "| Concatenate 1 | Input1 = 4900, Input1 = 5000, Output = 9900   | Max pooling 2 and 3 |Fully connected            |\n",
    "| Fully connected | Fully Connected. Input = 9900, Output = 100 | Concatenate 1     | Dropout                     |\n",
    "| Dropout       | Dropout prob = 0.75                           | Fully connected   | Softmax                     |\n",
    "| Softmax\t\t| Fully Connected. Input = 100, Output = 43     | Dropout           | Probabilities               |"
   ]
  },
  {
   "cell_type": "code",
   "execution_count": 7,
   "metadata": {
    "collapsed": false,
    "deletable": true,
    "editable": true
   },
   "outputs": [],
   "source": [
    "import tensorflow as tf\n",
    "\n",
    "from tensorflow.contrib.layers import flatten\n",
    "\n",
    "def model(x):    \n",
    "    # Arguments used for tf.truncated_normal, randomly defines variables for the weights and biases for each layer\n",
    "    mu = 0\n",
    "    sigma = 0.1\n",
    "    \n",
    "    # Network Parameters\n",
    "    n_classes = 43  # MNIST total classes (0-9 digits)\n",
    "    dropout = 0.75  # Dropout\n",
    "    filter_size = 5\n",
    "    \n",
    "\n",
    "    # Store layers weight & bias\n",
    "    weights = {\n",
    "        'wc1' : tf.Variable(tf.truncated_normal([filter_size, filter_size, 1, 100], mean = mu, stddev = sigma)),\n",
    "        'wc2' : tf.Variable(tf.truncated_normal([filter_size, filter_size, 100, 200], mean = mu, stddev = sigma)),\n",
    "        'wfc1': tf.Variable(tf.truncated_normal([9900, 100], mean = mu, stddev = sigma)),\n",
    "        'out' : tf.Variable(tf.truncated_normal([100, n_classes], mean = mu, stddev = sigma))}\n",
    "\n",
    "    biases = {\n",
    "        'bc1' : tf.Variable(tf.zeros([100])),\n",
    "        'bc2' : tf.Variable(tf.zeros([200])),\n",
    "        'bfc1': tf.Variable(tf.zeros([100])),\n",
    "        'out' : tf.Variable(tf.zeros([n_classes]))}\n",
    "\n",
    "\n",
    "    def conv2d(x, W, b, strides=1., padding='SAME'):\n",
    "        x = tf.nn.conv2d(x, W, strides=[1, strides, strides, 1], padding=padding)\n",
    "        x = tf.nn.bias_add(x, b)\n",
    "        return tf.nn.relu(x)\n",
    "\n",
    "    def maxpool2d(x, k=2, padding='SAME'):\n",
    "        return tf.nn.max_pool(x, ksize=[1, k, k, 1], strides=[1, k, k, 1], padding=padding)\n",
    "\n",
    "    # Layer 1: Convolution 1 - 32*32*1 to 28*28*100\n",
    "    conv1 = conv2d(x, weights['wc1'], biases['bc1'], padding='VALID')\n",
    "    # Max Pool - 28*28*100 to 14*14*100\n",
    "    conv1 = maxpool2d(conv1, k=2)\n",
    "\n",
    "    # Layer 2: Convolution 2 - 14*14*100 to 10*10*200\n",
    "    conv2 = conv2d(conv1, weights['wc2'], biases['bc2'], padding='VALID')\n",
    "    # Max Pool - 10*10*200 to 5*5*200\n",
    "    conv2 = maxpool2d(conv2, k=2)\n",
    "    \n",
    "    #Fork second max pool - 14*14*100 to 7*7*100\n",
    "    conv1 = maxpool2d(conv1, k=2)\n",
    "    \n",
    "    #Flatten conv1. Input = 7*7*100, Output = 4900\n",
    "    conv1 = tf.contrib.layers.flatten(conv1)\n",
    "\n",
    "    # Flatten conv2. Input = 5x5x200. Output = 5000.\n",
    "    conv2 = tf.contrib.layers.flatten(conv2)\n",
    "    \n",
    "    # Concatenate\n",
    "    flat = tf.concat(1,[conv1,conv2])\n",
    "    \n",
    "    # Layer 3 : Fully Connected. Input = 9900. Output = 100.\n",
    "    fc1 = tf.add(tf.matmul(flat, weights['wfc1']), biases['bfc1'])\n",
    "    fc1 = tf.nn.relu(fc1)\n",
    "    fc1 = tf.nn.dropout(fc1, dropout)\n",
    "    \n",
    "    # Layer 4: Fully Connected. Input = 100. Output = 43.\n",
    "    logits = tf.add(tf.matmul(fc1, weights['out']), biases['out'])\n",
    "\n",
    "    return logits\n"
   ]
  },
  {
   "cell_type": "markdown",
   "metadata": {
    "deletable": true,
    "editable": true
   },
   "source": [
    "### Train, Validate and Test the Model"
   ]
  },
  {
   "cell_type": "markdown",
   "metadata": {
    "deletable": true,
    "editable": true
   },
   "source": [
    "A validation set can be used to assess how well the model is performing. A low accuracy on the training and validation\n",
    "sets imply underfitting. A high accuracy on the training set but low accuracy on the validation set implies overfitting."
   ]
  },
  {
   "cell_type": "code",
   "execution_count": 8,
   "metadata": {
    "collapsed": true,
    "deletable": true,
    "editable": true
   },
   "outputs": [],
   "source": [
    "### Train your model here.\n",
    "### Calculate and report the accuracy on the training and validation set.\n",
    "### Once a final model architecture is selected, \n",
    "### the accuracy on the test set should be calculated and reported as well.\n",
    "### Feel free to use as many code cells as needed.\n",
    "\n",
    "#Hyperparameters\n",
    "EPOCHS = 100                   #Max EPOCH number, if ever early stopping doesn't kick in\n",
    "BATCH_SIZE = 256               #Max batch size\n",
    "rate = 0.001                   #Base learning rate\n",
    "max_iter_wo_improvmnt = 3000   #For early stopping"
   ]
  },
  {
   "cell_type": "markdown",
   "metadata": {
    "deletable": true,
    "editable": true
   },
   "source": [
    "### Features and Labels\n",
    "\n",
    "`x` is a placeholder for a batch of input images.\n",
    "`y` is a placeholder for a batch of output labels."
   ]
  },
  {
   "cell_type": "code",
   "execution_count": 9,
   "metadata": {
    "collapsed": false,
    "deletable": true,
    "editable": true
   },
   "outputs": [],
   "source": [
    "#Declare placeholder tensors\n",
    "x = tf.placeholder(tf.float32, (None, 32, 32, 1))\n",
    "y = tf.placeholder(tf.int32, (None))\n",
    "one_hot_y = tf.one_hot(y, 43)\n"
   ]
  },
  {
   "cell_type": "markdown",
   "metadata": {
    "deletable": true,
    "editable": true
   },
   "source": [
    "### Training Pipeline\n",
    "Create a training pipeline that uses the model to classify German Traffic Sign Benchmarks data."
   ]
  },
  {
   "cell_type": "code",
   "execution_count": 10,
   "metadata": {
    "collapsed": false,
    "deletable": true,
    "editable": true
   },
   "outputs": [],
   "source": [
    "logits = model(x)\n",
    "cross_entropy = tf.nn.softmax_cross_entropy_with_logits(logits, one_hot_y)\n",
    "loss_operation = tf.reduce_mean(cross_entropy)\n",
    "optimizer = tf.train.AdamOptimizer(learning_rate = rate)\n",
    "training_operation = optimizer.minimize(loss_operation)"
   ]
  },
  {
   "cell_type": "markdown",
   "metadata": {
    "deletable": true,
    "editable": true
   },
   "source": [
    "## Model Evaluation\n",
    "Evaluate how well the loss and accuracy of the model for a given dataset."
   ]
  },
  {
   "cell_type": "code",
   "execution_count": 11,
   "metadata": {
    "collapsed": true,
    "deletable": true,
    "editable": true
   },
   "outputs": [],
   "source": [
    "correct_prediction = tf.equal(tf.argmax(logits, 1), tf.argmax(one_hot_y, 1))\n",
    "accuracy_operation = tf.reduce_mean(tf.cast(correct_prediction, tf.float32))\n",
    "saver = tf.train.Saver()\n",
    "\n",
    "def evaluate(X_data, y_data):\n",
    "    num_examples = len(X_data)\n",
    "    total_accuracy = 0\n",
    "    sess = tf.get_default_session()\n",
    "    for offset in range(0, num_examples, BATCH_SIZE):\n",
    "        batch_x, batch_y = X_data[offset:offset+BATCH_SIZE], y_data[offset:offset+BATCH_SIZE]\n",
    "        accuracy = sess.run(accuracy_operation, feed_dict={x: batch_x, y: batch_y})\n",
    "        total_accuracy += (accuracy * len(batch_x))\n",
    "    return total_accuracy / num_examples"
   ]
  },
  {
   "cell_type": "markdown",
   "metadata": {
    "deletable": true,
    "editable": true
   },
   "source": [
    "## Train the Model\n",
    "Run the training data through the training pipeline to train the model.\n",
    "\n",
    "Before each epoch, shuffle the training set.\n",
    "\n",
    "After each epoch, measure the loss and accuracy of the validation set.\n",
    "\n",
    "Save the model after training."
   ]
  },
  {
   "cell_type": "code",
   "execution_count": 13,
   "metadata": {
    "collapsed": false,
    "deletable": true,
    "editable": true
   },
   "outputs": [
    {
     "name": "stdout",
     "output_type": "stream",
     "text": [
      "Training...\n",
      "\n",
      "EPOCH 1 ...\n",
      "Validation Accuracy = 0.248\n",
      "\n",
      "EPOCH 2 ...\n",
      "Validation Accuracy = 0.542\n",
      "\n",
      "EPOCH 3 ...\n",
      "Validation Accuracy = 0.786\n",
      "\n",
      "EPOCH 4 ...\n",
      "Validation Accuracy = 0.842\n",
      "\n",
      "EPOCH 5 ...\n",
      "Validation Accuracy = 0.905\n",
      "\n",
      "EPOCH 6 ...\n",
      "Validation Accuracy = 0.907\n",
      "\n",
      "EPOCH 7 ...\n",
      "Validation Accuracy = 0.931\n",
      "\n",
      "EPOCH 8 ...\n",
      "Validation Accuracy = 0.930\n",
      "\n",
      "EPOCH 9 ...\n",
      "Validation Accuracy = 0.936\n",
      "\n",
      "EPOCH 10 ...\n",
      "Validation Accuracy = 0.940\n",
      "\n",
      "EPOCH 11 ...\n",
      "Validation Accuracy = 0.946\n",
      "\n",
      "Improvement found, model saved!\n",
      "EPOCH 12 ...\n",
      "Validation Accuracy = 0.943\n",
      "\n",
      "EPOCH 13 ...\n",
      "Validation Accuracy = 0.947\n",
      "\n",
      "EPOCH 14 ...\n",
      "Validation Accuracy = 0.952\n",
      "\n",
      "Improvement found, model saved!\n",
      "EPOCH 15 ...\n",
      "Validation Accuracy = 0.960\n",
      "\n",
      "Improvement found, model saved!\n",
      "EPOCH 16 ...\n",
      "Validation Accuracy = 0.960\n",
      "\n",
      "Improvement found, model saved!\n",
      "EPOCH 17 ...\n",
      "Validation Accuracy = 0.960\n",
      "\n",
      "EPOCH 18 ...\n",
      "Validation Accuracy = 0.956\n",
      "\n",
      "Improvement found, model saved!\n",
      "EPOCH 19 ...\n",
      "Validation Accuracy = 0.962\n",
      "\n",
      "EPOCH 20 ...\n",
      "Validation Accuracy = 0.966\n",
      "\n",
      "Improvement found, model saved!\n",
      "Improvement found, model saved!\n",
      "EPOCH 21 ...\n",
      "Validation Accuracy = 0.963\n",
      "\n",
      "EPOCH 22 ...\n",
      "Validation Accuracy = 0.958\n",
      "\n",
      "EPOCH 23 ...\n",
      "Validation Accuracy = 0.965\n",
      "\n",
      "Improvement found, model saved!\n",
      "EPOCH 24 ...\n",
      "Validation Accuracy = 0.967\n",
      "\n",
      "EPOCH 25 ...\n",
      "Validation Accuracy = 0.970\n",
      "\n",
      "EPOCH 26 ...\n",
      "Validation Accuracy = 0.966\n",
      "\n",
      "EPOCH 27 ...\n",
      "Validation Accuracy = 0.968\n",
      "\n",
      "EPOCH 28 ...\n",
      "Validation Accuracy = 0.965\n",
      "\n",
      "EPOCH 29 ...\n",
      "Validation Accuracy = 0.974\n",
      "\n",
      "EPOCH 30 ...\n",
      "Validation Accuracy = 0.970\n",
      "\n",
      "EPOCH 31 ...\n",
      "Validation Accuracy = 0.971\n",
      "\n",
      "Improvement found, model saved!\n",
      "EPOCH 32 ...\n",
      "Validation Accuracy = 0.971\n",
      "\n",
      "EPOCH 33 ...\n",
      "Validation Accuracy = 0.973\n",
      "\n",
      "EPOCH 34 ...\n",
      "Validation Accuracy = 0.973\n",
      "\n",
      "Improvement found, model saved!\n",
      "Improvement found, model saved!\n",
      "EPOCH 35 ...\n",
      "Validation Accuracy = 0.972\n",
      "\n",
      "EPOCH 36 ...\n",
      "Validation Accuracy = 0.967\n",
      "\n",
      "EPOCH 37 ...\n",
      "Validation Accuracy = 0.972\n",
      "\n",
      "EPOCH 38 ...\n",
      "Validation Accuracy = 0.966\n",
      "\n",
      "EPOCH 39 ...\n",
      "Validation Accuracy = 0.966\n",
      "\n",
      "EPOCH 40 ...\n",
      "Validation Accuracy = 0.974\n",
      "\n",
      "EPOCH 41 ...\n",
      "Validation Accuracy = 0.971\n",
      "\n",
      "Improvement found, model saved!\n",
      "EPOCH 42 ...\n",
      "Validation Accuracy = 0.976\n",
      "\n",
      "Improvement found, model saved!\n",
      "EPOCH 43 ...\n",
      "Validation Accuracy = 0.972\n",
      "\n",
      "EPOCH 44 ...\n",
      "Validation Accuracy = 0.971\n",
      "\n",
      "EPOCH 45 ...\n",
      "Validation Accuracy = 0.971\n",
      "\n",
      "EPOCH 46 ...\n",
      "Validation Accuracy = 0.973\n",
      "\n",
      "EPOCH 47 ...\n",
      "Validation Accuracy = 0.976\n",
      "\n",
      "Improvement found, model saved!\n",
      "EPOCH 48 ...\n",
      "Validation Accuracy = 0.974\n",
      "\n",
      "EPOCH 49 ...\n",
      "Validation Accuracy = 0.976\n",
      "\n",
      "EPOCH 50 ...\n",
      "Validation Accuracy = 0.977\n",
      "\n",
      "EPOCH 51 ...\n",
      "Validation Accuracy = 0.976\n",
      "\n",
      "EPOCH 52 ...\n",
      "Validation Accuracy = 0.977\n",
      "\n",
      "EPOCH 53 ...\n",
      "Validation Accuracy = 0.969\n",
      "\n",
      "Improvement found, model saved!\n",
      "EPOCH 54 ...\n",
      "Validation Accuracy = 0.976\n",
      "\n",
      "EPOCH 55 ...\n",
      "Validation Accuracy = 0.978\n",
      "\n",
      "EPOCH 56 ...\n",
      "Validation Accuracy = 0.974\n",
      "\n",
      "EPOCH 57 ...\n",
      "Validation Accuracy = 0.976\n",
      "\n",
      "EPOCH 58 ...\n",
      "Validation Accuracy = 0.981\n",
      "\n",
      "EPOCH 59 ...\n",
      "Validation Accuracy = 0.977\n",
      "\n",
      "EPOCH 60 ...\n",
      "Validation Accuracy = 0.973\n",
      "\n",
      "EPOCH 61 ...\n",
      "Validation Accuracy = 0.978\n",
      "\n",
      "EPOCH 62 ...\n",
      "Validation Accuracy = 0.974\n",
      "\n",
      "Stopping criteria met..\n",
      "EPOCH 63 ...\n",
      "Validation Accuracy = 0.979\n",
      "\n"
     ]
    }
   ],
   "source": [
    "from sklearn.utils import shuffle\n",
    "\n",
    "with tf.Session() as sess:\n",
    "    sess.run(tf.global_variables_initializer())\n",
    "    num_examples = len(X_train)\n",
    "    \n",
    "    # Max iteration number without improvement\n",
    "    max_interation_num_wo_improv = 1000\n",
    "    \n",
    "    print(\"Training...\")\n",
    "    iteration = 0\n",
    "    best_valid_accuracy = 0\n",
    "    best_accuracy_iter = 0\n",
    "    stop = 0\n",
    "    print()\n",
    "    for i in range(EPOCHS):\n",
    "        X_train, y_train = shuffle(X_train, y_train)\n",
    "        for offset in range(0, num_examples, BATCH_SIZE):\n",
    "            iteration = iteration + 1\n",
    "            end = offset + BATCH_SIZE\n",
    "            batch_x, batch_y = X_train[offset:end], y_train[offset:end]\n",
    "            sess.run(training_operation, feed_dict={x: batch_x, y: batch_y})\n",
    "            \n",
    "            # After 10 Epochs, for every 200 iterations validation accuracy is checked\n",
    "            if (iteration % 200 == 0 and i > 10):\n",
    "                validation_accuracy = evaluate(X_valid, y_valid)\n",
    "                \n",
    "                if validation_accuracy > best_valid_accuracy:\n",
    "                    best_valid_accuracy = validation_accuracy\n",
    "                    best_accuracy_iter = iteration\n",
    "                    saver = tf.train.Saver()\n",
    "                    saver.save(sess, './best_model')\n",
    "                    print(\"Improvement found, model saved!\")\n",
    "                    stop = 0\n",
    "                \n",
    "                # Stopping criteria : if not improvement since 1000 iterations stop training\n",
    "                if (iteration - best_accuracy_iter) > max_iter_wo_improvmnt:\n",
    "                    print(\"Stopping criteria met..\")\n",
    "                    stop = 1\n",
    "                    \n",
    "        validation_accuracy = evaluate(X_valid, y_valid)\n",
    "        print(\"EPOCH {} ...\".format(i+1))\n",
    "        print(\"Validation Accuracy = {:.3f}\".format(validation_accuracy))\n",
    "        print()\n",
    "        \n",
    "        if stop == 1:\n",
    "            break\n",
    "        \n",
    "#     saver.save(sess, './lenet')\n",
    "#     print(\"Model saved\")"
   ]
  },
  {
   "cell_type": "markdown",
   "metadata": {
    "deletable": true,
    "editable": true
   },
   "source": [
    "---\n",
    "\n",
    "## Step 3: Test a Model on New Images\n",
    "\n",
    "To give yourself more insight into how your model is working, download at least five pictures of German traffic signs from the web and use your model to predict the traffic sign type.\n",
    "\n",
    "You may find `signnames.csv` useful as it contains mappings from the class id (integer) to the actual sign name."
   ]
  },
  {
   "cell_type": "markdown",
   "metadata": {
    "deletable": true,
    "editable": true
   },
   "source": [
    "### Load the trained model"
   ]
  },
  {
   "cell_type": "code",
   "execution_count": 14,
   "metadata": {
    "collapsed": false,
    "deletable": true,
    "editable": true
   },
   "outputs": [
    {
     "name": "stdout",
     "output_type": "stream",
     "text": [
      "Test Accuracy = 0.951\n"
     ]
    }
   ],
   "source": [
    "### Load the images and plot them here.\n",
    "### Feel free to use as many code cells as needed.\n",
    "\n",
    "with tf.Session() as sess:\n",
    "    saver.restore(sess, tf.train.latest_checkpoint('.'))\n",
    "\n",
    "    test_accuracy = evaluate(X_test, y_test)\n",
    "    print(\"Test Accuracy = {:.3f}\".format(test_accuracy))"
   ]
  },
  {
   "cell_type": "markdown",
   "metadata": {
    "deletable": true,
    "editable": true
   },
   "source": [
    "### Load and Output the Images"
   ]
  },
  {
   "cell_type": "code",
   "execution_count": null,
   "metadata": {
    "collapsed": true,
    "deletable": true,
    "editable": true
   },
   "outputs": [],
   "source": []
  },
  {
   "cell_type": "markdown",
   "metadata": {
    "deletable": true,
    "editable": true
   },
   "source": [
    "### Predict the Sign Type for Each Image"
   ]
  },
  {
   "cell_type": "code",
   "execution_count": null,
   "metadata": {
    "collapsed": true,
    "deletable": true,
    "editable": true
   },
   "outputs": [],
   "source": [
    "### Run the predictions here and use the model to output the prediction for each image.\n",
    "### Make sure to pre-process the images with the same pre-processing pipeline used earlier.\n",
    "### Feel free to use as many code cells as needed."
   ]
  },
  {
   "cell_type": "markdown",
   "metadata": {
    "deletable": true,
    "editable": true
   },
   "source": [
    "### Analyze Performance"
   ]
  },
  {
   "cell_type": "code",
   "execution_count": null,
   "metadata": {
    "collapsed": true,
    "deletable": true,
    "editable": true
   },
   "outputs": [],
   "source": [
    "### Calculate the accuracy for these 5 new images. \n",
    "### For example, if the model predicted 1 out of 5 signs correctly, it's 20% accurate on these new images."
   ]
  },
  {
   "cell_type": "markdown",
   "metadata": {
    "deletable": true,
    "editable": true
   },
   "source": [
    "### Output Top 5 Softmax Probabilities For Each Image Found on the Web"
   ]
  },
  {
   "cell_type": "markdown",
   "metadata": {
    "deletable": true,
    "editable": true
   },
   "source": [
    "For each of the new images, print out the model's softmax probabilities to show the **certainty** of the model's predictions (limit the output to the top 5 probabilities for each image). [`tf.nn.top_k`](https://www.tensorflow.org/versions/r0.12/api_docs/python/nn.html#top_k) could prove helpful here. \n",
    "\n",
    "The example below demonstrates how tf.nn.top_k can be used to find the top k predictions for each image.\n",
    "\n",
    "`tf.nn.top_k` will return the values and indices (class ids) of the top k predictions. So if k=3, for each sign, it'll return the 3 largest probabilities (out of a possible 43) and the correspoding class ids.\n",
    "\n",
    "Take this numpy array as an example. The values in the array represent predictions. The array contains softmax probabilities for five candidate images with six possible classes. `tk.nn.top_k` is used to choose the three classes with the highest probability:\n",
    "\n",
    "```\n",
    "# (5, 6) array\n",
    "a = np.array([[ 0.24879643,  0.07032244,  0.12641572,  0.34763842,  0.07893497,\n",
    "         0.12789202],\n",
    "       [ 0.28086119,  0.27569815,  0.08594638,  0.0178669 ,  0.18063401,\n",
    "         0.15899337],\n",
    "       [ 0.26076848,  0.23664738,  0.08020603,  0.07001922,  0.1134371 ,\n",
    "         0.23892179],\n",
    "       [ 0.11943333,  0.29198961,  0.02605103,  0.26234032,  0.1351348 ,\n",
    "         0.16505091],\n",
    "       [ 0.09561176,  0.34396535,  0.0643941 ,  0.16240774,  0.24206137,\n",
    "         0.09155967]])\n",
    "```\n",
    "\n",
    "Running it through `sess.run(tf.nn.top_k(tf.constant(a), k=3))` produces:\n",
    "\n",
    "```\n",
    "TopKV2(values=array([[ 0.34763842,  0.24879643,  0.12789202],\n",
    "       [ 0.28086119,  0.27569815,  0.18063401],\n",
    "       [ 0.26076848,  0.23892179,  0.23664738],\n",
    "       [ 0.29198961,  0.26234032,  0.16505091],\n",
    "       [ 0.34396535,  0.24206137,  0.16240774]]), indices=array([[3, 0, 5],\n",
    "       [0, 1, 4],\n",
    "       [0, 5, 1],\n",
    "       [1, 3, 5],\n",
    "       [1, 4, 3]], dtype=int32))\n",
    "```\n",
    "\n",
    "Looking just at the first row we get `[ 0.34763842,  0.24879643,  0.12789202]`, you can confirm these are the 3 largest probabilities in `a`. You'll also notice `[3, 0, 5]` are the corresponding indices."
   ]
  },
  {
   "cell_type": "code",
   "execution_count": null,
   "metadata": {
    "collapsed": true,
    "deletable": true,
    "editable": true
   },
   "outputs": [],
   "source": [
    "### Print out the top five softmax probabilities for the predictions on the German traffic sign images found on the web. \n",
    "### Feel free to use as many code cells as needed."
   ]
  },
  {
   "cell_type": "markdown",
   "metadata": {
    "deletable": true,
    "editable": true
   },
   "source": [
    "---\n",
    "\n",
    "## Step 4: Visualize the Neural Network's State with Test Images\n",
    "\n",
    " This Section is not required to complete but acts as an additional excersise for understaning the output of a neural network's weights. While neural networks can be a great learning device they are often referred to as a black box. We can understand what the weights of a neural network look like better by plotting their feature maps. After successfully training your neural network you can see what it's feature maps look like by plotting the output of the network's weight layers in response to a test stimuli image. From these plotted feature maps, it's possible to see what characteristics of an image the network finds interesting. For a sign, maybe the inner network feature maps react with high activation to the sign's boundary outline or to the contrast in the sign's painted symbol.\n",
    "\n",
    " Provided for you below is the function code that allows you to get the visualization output of any tensorflow weight layer you want. The inputs to the function should be a stimuli image, one used during training or a new one you provided, and then the tensorflow variable name that represents the layer's state during the training process, for instance if you wanted to see what the [LeNet lab's](https://classroom.udacity.com/nanodegrees/nd013/parts/fbf77062-5703-404e-b60c-95b78b2f3f9e/modules/6df7ae49-c61c-4bb2-a23e-6527e69209ec/lessons/601ae704-1035-4287-8b11-e2c2716217ad/concepts/d4aca031-508f-4e0b-b493-e7b706120f81) feature maps looked like for it's second convolutional layer you could enter conv2 as the tf_activation variable.\n",
    "\n",
    "For an example of what feature map outputs look like, check out NVIDIA's results in their paper [End-to-End Deep Learning for Self-Driving Cars](https://devblogs.nvidia.com/parallelforall/deep-learning-self-driving-cars/) in the section Visualization of internal CNN State. NVIDIA was able to show that their network's inner weights had high activations to road boundary lines by comparing feature maps from an image with a clear path to one without. Try experimenting with a similar test to show that your trained network's weights are looking for interesting features, whether it's looking at differences in feature maps from images with or without a sign, or even what feature maps look like in a trained network vs a completely untrained one on the same sign image.\n",
    "\n",
    "<figure>\n",
    " <img src=\"visualize_cnn.png\" width=\"380\" alt=\"Combined Image\" />\n",
    " <figcaption>\n",
    " <p></p> \n",
    " <p style=\"text-align: center;\"> Your output should look something like this (above)</p> \n",
    " </figcaption>\n",
    "</figure>\n",
    " <p></p> \n"
   ]
  },
  {
   "cell_type": "code",
   "execution_count": null,
   "metadata": {
    "collapsed": true,
    "deletable": true,
    "editable": true
   },
   "outputs": [],
   "source": [
    "### Visualize your network's feature maps here.\n",
    "### Feel free to use as many code cells as needed.\n",
    "\n",
    "# image_input: the test image being fed into the network to produce the feature maps\n",
    "# tf_activation: should be a tf variable name used during your training procedure that represents the calculated state of a specific weight layer\n",
    "# activation_min/max: can be used to view the activation contrast in more detail, by default matplot sets min and max to the actual min and max values of the output\n",
    "# plt_num: used to plot out multiple different weight feature map sets on the same block, just extend the plt number for each new feature map entry\n",
    "\n",
    "def outputFeatureMap(image_input, tf_activation, activation_min=-1, activation_max=-1 ,plt_num=1):\n",
    "    # Here make sure to preprocess your image_input in a way your network expects\n",
    "    # with size, normalization, ect if needed\n",
    "    # image_input =\n",
    "    # Note: x should be the same name as your network's tensorflow data placeholder variable\n",
    "    # If you get an error tf_activation is not defined it maybe having trouble accessing the variable from inside a function\n",
    "    activation = tf_activation.eval(session=sess,feed_dict={x : image_input})\n",
    "    featuremaps = activation.shape[3]\n",
    "    plt.figure(plt_num, figsize=(15,15))\n",
    "    for featuremap in range(featuremaps):\n",
    "        plt.subplot(6,8, featuremap+1) # sets the number of feature maps to show on each row and column\n",
    "        plt.title('FeatureMap ' + str(featuremap)) # displays the feature map number\n",
    "        if activation_min != -1 & activation_max != -1:\n",
    "            plt.imshow(activation[0,:,:, featuremap], interpolation=\"nearest\", vmin =activation_min, vmax=activation_max, cmap=\"gray\")\n",
    "        elif activation_max != -1:\n",
    "            plt.imshow(activation[0,:,:, featuremap], interpolation=\"nearest\", vmax=activation_max, cmap=\"gray\")\n",
    "        elif activation_min !=-1:\n",
    "            plt.imshow(activation[0,:,:, featuremap], interpolation=\"nearest\", vmin=activation_min, cmap=\"gray\")\n",
    "        else:\n",
    "            plt.imshow(activation[0,:,:, featuremap], interpolation=\"nearest\", cmap=\"gray\")"
   ]
  },
  {
   "cell_type": "markdown",
   "metadata": {
    "deletable": true,
    "editable": true
   },
   "source": [
    "### Question 9\n",
    "\n",
    "Discuss how you used the visual output of your trained network's feature maps to show that it had learned to look for interesting characteristics in traffic sign images\n"
   ]
  },
  {
   "cell_type": "markdown",
   "metadata": {
    "deletable": true,
    "editable": true
   },
   "source": [
    "**Answer:**"
   ]
  },
  {
   "cell_type": "markdown",
   "metadata": {
    "deletable": true,
    "editable": true
   },
   "source": [
    "> **Note**: Once you have completed all of the code implementations and successfully answered each question above, you may finalize your work by exporting the iPython Notebook as an HTML document. You can do this by using the menu above and navigating to  \\n\",\n",
    "    \"**File -> Download as -> HTML (.html)**. Include the finished document along with this notebook as your submission."
   ]
  },
  {
   "cell_type": "markdown",
   "metadata": {
    "deletable": true,
    "editable": true
   },
   "source": [
    "### Project Writeup\n",
    "\n",
    "Once you have completed the code implementation, document your results in a project writeup using this [template](https://github.com/udacity/CarND-Traffic-Sign-Classifier-Project/blob/master/writeup_template.md) as a guide. The writeup can be in a markdown or pdf file. "
   ]
  }
 ],
 "metadata": {
  "anaconda-cloud": {},
  "kernelspec": {
   "display_name": "Python 3",
   "language": "python",
   "name": "python3"
  },
  "language_info": {
   "codemirror_mode": {
    "name": "ipython",
    "version": 3
   },
   "file_extension": ".py",
   "mimetype": "text/x-python",
   "name": "python",
   "nbconvert_exporter": "python",
   "pygments_lexer": "ipython3",
   "version": "3.5.2"
  },
  "widgets": {
   "state": {},
   "version": "1.1.2"
  }
 },
 "nbformat": 4,
 "nbformat_minor": 1
}
